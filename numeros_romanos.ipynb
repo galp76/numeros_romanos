{
 "cells": [
  {
   "cell_type": "code",
   "execution_count": null,
   "id": "recognized-mumbai",
   "metadata": {},
   "outputs": [],
   "source": [
    "import time \n",
    "\n",
    "romanos = {'0': '', '00': '', '000': '', '1': 'I', '2': 'II', '3': 'III', '4': 'IV', '5': 'V', '6': 'VI', '7': 'VII', '8': 'VIII', '9': 'IX', '10': 'X', '20': 'XX', '30': 'XXX', '40': 'XL', '50': 'L', '60': 'LX', '70': 'LXX', '80': 'LXXX', '90': 'XC', '100': 'C', '200': 'CC', '300': 'CCC', '400': 'CD', '500': 'D', '600': 'DC', '700': 'DCC', '800': 'DCCC', '900': 'CM', '1000': 'M'}\n",
    "\n",
    "\n",
    "print('Por favor indique el numero de inicio.')\n",
    "x = int(input())\n",
    "\n",
    "print('Por favor indique el numero de fin.')\n",
    "y = int(input())\n",
    "\n",
    "for i in range(x, y+1, 10):\n",
    "  for g in range(i, i+10):\n",
    "    imprimir = ''\n",
    "    lista_previa = []\n",
    "    romanos_previa = []\n",
    "    inicio = list(str(g))\n",
    "    \n",
    "    for j in range(len(inicio)):\n",
    "      lista_previa.append(inicio[j]+'0'*(len(inicio)-j-1))\n",
    "      \n",
    "    for k in range(len(inicio)):\n",
    "      romanos_previa.append(romanos[inicio[k]+'0'*(len(inicio)-k-1)])\n",
    "      \n",
    "    for m in range(len(romanos_previa)):\n",
    "      imprimir = imprimir + romanos_previa[m]\n",
    "      \n",
    "    print(g, ' - ', imprimir)\n",
    "    time.sleep(1)\n",
    "  print('Presione ENTER para continuar.')\n",
    "  q = input()\n"
   ]
  },
  {
   "cell_type": "code",
   "execution_count": null,
   "id": "civic-nudist",
   "metadata": {},
   "outputs": [],
   "source": []
  }
 ],
 "metadata": {
  "kernelspec": {
   "display_name": "Python 3",
   "language": "python",
   "name": "python3"
  },
  "language_info": {
   "codemirror_mode": {
    "name": "ipython",
    "version": 3
   },
   "file_extension": ".py",
   "mimetype": "text/x-python",
   "name": "python",
   "nbconvert_exporter": "python",
   "pygments_lexer": "ipython3",
   "version": "3.9.1"
  }
 },
 "nbformat": 4,
 "nbformat_minor": 5
}
